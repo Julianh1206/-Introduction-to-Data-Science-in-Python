{
  "nbformat": 4,
  "nbformat_minor": 0,
  "metadata": {
    "colab": {
      "provenance": [],
      "authorship_tag": "ABX9TyPhFTdDQzf2p5YM1/DGz5q8",
      "include_colab_link": true
    },
    "kernelspec": {
      "name": "python3",
      "display_name": "Python 3"
    },
    "language_info": {
      "name": "python"
    }
  },
  "cells": [
    {
      "cell_type": "markdown",
      "metadata": {
        "id": "view-in-github",
        "colab_type": "text"
      },
      "source": [
        "<a href=\"https://colab.research.google.com/github/Julianh1206/-Introduction-to-Data-Science-in-Python/blob/main/Introduction_to_Data_Science_in_Python.ipynb\" target=\"_parent\"><img src=\"https://colab.research.google.com/assets/colab-badge.svg\" alt=\"Open In Colab\"/></a>"
      ]
    },
    {
      "cell_type": "markdown",
      "source": [
        "## **Introduction to Data Science in Python (Coursera)**"
      ],
      "metadata": {
        "id": "1YI8_YLb7JJy"
      }
    },
    {
      "cell_type": "markdown",
      "source": [
        "## Semana 1:"
      ],
      "metadata": {
        "id": "T5kOXJEDvSXN"
      }
    },
    {
      "cell_type": "markdown",
      "source": [
        "### Python Functions:"
      ],
      "metadata": {
        "id": "oQCTctib_uk8"
      }
    },
    {
      "cell_type": "code",
      "execution_count": 5,
      "metadata": {
        "colab": {
          "base_uri": "https://localhost:8080/"
        },
        "id": "9Ehm0b-n7DOm",
        "outputId": "8de2895a-223a-4100-e33b-241bbc54a188"
      },
      "outputs": [
        {
          "output_type": "execute_result",
          "data": {
            "text/plain": [
              "3"
            ]
          },
          "metadata": {},
          "execution_count": 5
        }
      ],
      "source": [
        "# La idea es que el tercer valor sea opcional, si ese tercer valor (kind) es 'add', entonces realizar la suma. En caso \n",
        "# contrario se debera restar el segundo del primero (a-b)\n",
        "\n",
        "## Base:\n",
        "\"\"\"\n",
        "def do_math(?, ?, ?):\n",
        "  if (kind=='add'):\n",
        "    return a+b\n",
        "  else:\n",
        "    return a-b\n",
        "\n",
        "do_math(1, 2) \"\"\"\n",
        "\n",
        "def do_math(a, b, kind = None):\n",
        "  if (kind=='add'):\n",
        "    return a+b\n",
        "  else:\n",
        "    return a-b\n",
        "\n",
        "## Pruebas\n",
        "do_math(1,2)\n",
        "do_math(1,2, 'add')\n",
        "\n",
        "# Nota: cuando ponemos ese '= None', lo que realiza es dejar la variable abierta. Es decir, se pueden\n",
        "# ingresar los dos parámetros y lo va a ejecutar pero si se ingresa el tercero, va a operar con respecto\n",
        "# a las condiciones que se pusieron en la función.\n"
      ]
    },
    {
      "cell_type": "markdown",
      "source": [
        "### Python Types and Sequences:"
      ],
      "metadata": {
        "id": "DWdlD54W_zMW"
      }
    },
    {
      "cell_type": "code",
      "source": [
        "\"\"\" La ausencia de tipificación en Python NO significa que no hay tipos. Está la función type()\n",
        "para identificar el tipo de variable de interés. En este caso vamos a tratar sobre las tuplas, listas\n",
        "y diccionarios. \n",
        "Las tuplas se crean con () y son inmutables (No se pueden modificar), ejm:\n",
        "x = (1, 'a', 2, 'rt') -> tupla\n",
        "Las listas las definimos con [] y éstas sí son mutables e iterables, modificables. Ejm:\n",
        "x = [1, 'a', 2, 'rt'] -> lista, para rebanar la lista usamos -> x[0:n+1] y la lista devuelve hasta n.\n",
        "En caso de no ponerle el cero, es decir, de escribir x[:3], Python por defecto saber que es desde 0, \n",
        "lo mismo en caso contrario, si se pone x[3:], va desde el x[3] hasta el último elemento de la lista.\n",
        "Ejm: \"\"\"\n",
        "\n",
        "## What would be an appropriate slice to get the name \"Christopher\" from the string \"Dr. Christopher Brooks\"?\n",
        "x = 'Dr. Christopher Brooks'\n",
        "print(x[4:15])\n",
        "\n",
        "# Luego, para definir las categorias en una tupla podemos hacerlo de la siguiente manera:\n",
        "tupla1 = (\"Julián Saavedra Echavarría\", 22, \"Medellín\", \"jsaavedrae@unal.edu.co\")\n",
        "nombre, edad, ciudad, correo = tupla1\n",
        "print(nombre) # Prueba\n",
        "\n",
        "## Otro ejm:\n",
        "firstname = 'Christopher Arthur Hansen Brooks'.split(' ')[0]  # [0] selects the first element of the list\n",
        "lastname = 'Christopher Arthur Hansen Brooks'.split(' ')[-1]  # [-1] selects the last element of the list\n",
        "print(firstname)\n",
        "print(lastname)\n",
        "\n",
        "\"\"\" Los diccionarios los definimos con {} y se tratan de colecciones de elementos que NO tienen\n",
        "orden, quiere decir que por cada valor que insertas en el diccionario se debe indicar cuál es \n",
        "la clase de acceso a ese elemento. Para aclarar más ese tema, tenemos un ejm: \"\"\"\n",
        "\n",
        "x = {'Christopher Brooks': 'brooksch@umich.edu', 'Bill Gates': 'billg@microsoft.com'}\n",
        "x['Christopher Brooks']  # Retrieve a value by using the indexing operator\n",
        "\n",
        "# Lo que nos indica este ejm es que la clave está separada por :, luego al ingresar x['Christopher Brooks']\n",
        "# (clave), el valor resultante debe ser 'brooksch@umich.edu' (elemento). Siempre vamos a usar :. \n",
        "\n"
      ],
      "metadata": {
        "colab": {
          "base_uri": "https://localhost:8080/",
          "height": 105
        },
        "id": "P2U1180u_25s",
        "outputId": "6d156414-8e84-4243-ed75-3113ab9bc3f7"
      },
      "execution_count": 14,
      "outputs": [
        {
          "output_type": "stream",
          "name": "stdout",
          "text": [
            "Christopher\n",
            "Julián Saavedra Echavarría\n",
            "Christopher\n",
            "Brooks\n"
          ]
        },
        {
          "output_type": "execute_result",
          "data": {
            "text/plain": [
              "'brooksch@umich.edu'"
            ],
            "application/vnd.google.colaboratory.intrinsic+json": {
              "type": "string"
            }
          },
          "metadata": {},
          "execution_count": 14
        }
      ]
    },
    {
      "cell_type": "code",
      "source": [],
      "metadata": {
        "id": "FKLQa8ROTNz5"
      },
      "execution_count": null,
      "outputs": []
    }
  ]
}