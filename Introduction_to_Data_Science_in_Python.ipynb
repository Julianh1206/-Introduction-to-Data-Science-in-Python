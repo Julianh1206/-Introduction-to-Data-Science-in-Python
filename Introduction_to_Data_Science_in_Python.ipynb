{
  "nbformat": 4,
  "nbformat_minor": 0,
  "metadata": {
    "colab": {
      "provenance": [],
      "authorship_tag": "ABX9TyNNWYA8dqi/kWUBtDY8P6S6",
      "include_colab_link": true
    },
    "kernelspec": {
      "name": "python3",
      "display_name": "Python 3"
    },
    "language_info": {
      "name": "python"
    }
  },
  "cells": [
    {
      "cell_type": "markdown",
      "metadata": {
        "id": "view-in-github",
        "colab_type": "text"
      },
      "source": [
        "<a href=\"https://colab.research.google.com/github/Julianh1206/-Introduction-to-Data-Science-in-Python/blob/main/Introduction_to_Data_Science_in_Python.ipynb\" target=\"_parent\"><img src=\"https://colab.research.google.com/assets/colab-badge.svg\" alt=\"Open In Colab\"/></a>"
      ]
    },
    {
      "cell_type": "markdown",
      "source": [
        "## **Introduction to Data Science in Python (Coursera)**"
      ],
      "metadata": {
        "id": "1YI8_YLb7JJy"
      }
    },
    {
      "cell_type": "markdown",
      "source": [
        "## Semana 1:"
      ],
      "metadata": {
        "id": "T5kOXJEDvSXN"
      }
    },
    {
      "cell_type": "markdown",
      "source": [
        "### Python Functions:"
      ],
      "metadata": {
        "id": "oQCTctib_uk8"
      }
    },
    {
      "cell_type": "code",
      "execution_count": 25,
      "metadata": {
        "colab": {
          "base_uri": "https://localhost:8080/"
        },
        "id": "9Ehm0b-n7DOm",
        "outputId": "90e1a2f7-9f8d-46ba-e2e6-d9d3502cf7a5"
      },
      "outputs": [
        {
          "output_type": "execute_result",
          "data": {
            "text/plain": [
              "3"
            ]
          },
          "metadata": {},
          "execution_count": 25
        }
      ],
      "source": [
        "# La idea es que el tercer valor sea opcional, si ese tercer valor (kind) es 'add', entonces realizar la suma. En caso \n",
        "# contrario se debera restar el segundo del primero (a-b)\n",
        "\n",
        "## Base:\n",
        "\"\"\"\n",
        "def do_math(?, ?, ?):\n",
        "  if (kind=='add'):\n",
        "    return a+b\n",
        "  else:\n",
        "    return a-b\n",
        "\n",
        "do_math(1, 2) \"\"\"\n",
        "\n",
        "def do_math(a, b, kind = None):\n",
        "  if (kind=='add'):\n",
        "    return a+b\n",
        "  else:\n",
        "    return a-b\n",
        "\n",
        "## Pruebas\n",
        "do_math(1,2)\n",
        "do_math(1,2, 'add')\n",
        "\n",
        "# Nota: cuando ponemos ese '= None', lo que realiza es dejar la variable abierta. Es decir, se pueden\n",
        "# ingresar los dos parámetros y lo va a ejecutar pero si se ingresa el tercero, va a operar con respecto\n",
        "# a las condiciones que se pusieron en la función.\n"
      ]
    },
    {
      "cell_type": "markdown",
      "source": [
        "### Python Types and Sequences:"
      ],
      "metadata": {
        "id": "DWdlD54W_zMW"
      }
    },
    {
      "cell_type": "code",
      "source": [
        "\"\"\" La ausencia de tipificación en Python NO significa que no hay tipos. Está la función type()\n",
        "para identificar el tipo de variable de interés. En este caso vamos a tratar sobre las tuplas, listas\n",
        "y diccionarios. \n",
        "Las tuplas se crean con () y son inmutables (No se pueden modificar), ejm:\n",
        "x = (1, 'a', 2, 'rt') -> tupla\n",
        "Las listas las definimos con [] y éstas sí son mutables e iterables, modificables. Ejm:\n",
        "x = [1, 'a', 2, 'rt'] -> lista, para rebanar la lista usamos -> x[0:n+1] y la lista devuelve hasta n.\n",
        "En caso de no ponerle el cero, es decir, de escribir x[:3], Python por defecto saber que es desde 0, \n",
        "lo mismo en caso contrario, si se pone x[3:], va desde el x[3] hasta el último elemento de la lista.\n",
        "Ejm: \"\"\"\n",
        "\n",
        "## What would be an appropriate slice to get the name \"Christopher\" from the string \"Dr. Christopher Brooks\"?\n",
        "x = 'Dr. Christopher Brooks'\n",
        "print(x[4:15])\n",
        "\n"
      ],
      "metadata": {
        "colab": {
          "base_uri": "https://localhost:8080/"
        },
        "id": "P2U1180u_25s",
        "outputId": "1ece8a2e-9d64-4781-fb57-6973bdc17de9"
      },
      "execution_count": 26,
      "outputs": [
        {
          "output_type": "stream",
          "name": "stdout",
          "text": [
            "Christopher\n"
          ]
        }
      ]
    },
    {
      "cell_type": "code",
      "source": [
        "# Luego, para definir las categorias en una tupla podemos hacerlo de la siguiente manera:\n",
        "tupla1 = (\"Julián Saavedra Echavarría\", 22, \"Medellín\", \"jsaavedrae@unal.edu.co\")\n",
        "nombre, edad, ciudad, correo = tupla1\n",
        "print(nombre) # Prueba"
      ],
      "metadata": {
        "colab": {
          "base_uri": "https://localhost:8080/"
        },
        "id": "_03refMefrEZ",
        "outputId": "efbfc5fa-881b-4191-b63f-a85e5a8b061a"
      },
      "execution_count": 27,
      "outputs": [
        {
          "output_type": "stream",
          "name": "stdout",
          "text": [
            "Julián Saavedra Echavarría\n"
          ]
        }
      ]
    },
    {
      "cell_type": "code",
      "source": [
        "## Otro ejm:\n",
        "firstname = 'Christopher Arthur Hansen Brooks'.split(' ')[0]  # [0] selects the first element of the list\n",
        "lastname = 'Christopher Arthur Hansen Brooks'.split(' ')[-1]  # [-1] selects the last element of the list\n",
        "print(firstname)\n",
        "print(lastname)"
      ],
      "metadata": {
        "colab": {
          "base_uri": "https://localhost:8080/"
        },
        "id": "yTD4Wu36frSU",
        "outputId": "d7bd90f1-fae3-486c-ee79-2db19ed7ff1f"
      },
      "execution_count": 28,
      "outputs": [
        {
          "output_type": "stream",
          "name": "stdout",
          "text": [
            "Christopher\n",
            "Brooks\n"
          ]
        }
      ]
    },
    {
      "cell_type": "code",
      "source": [
        "\"\"\" Los diccionarios los definimos con {} y se tratan de colecciones de elementos que NO tienen\n",
        "orden, quiere decir que por cada valor que insertas en el diccionario se debe indicar cuál es \n",
        "la clase de acceso a ese elemento. Para aclarar más ese tema, tenemos un ejm: \"\"\"\n",
        "\n",
        "x = {'Christopher Brooks': 'brooksch@umich.edu', 'Bill Gates': 'billg@microsoft.com'}\n",
        "x['Christopher Brooks']  # Retrieve a value by using the indexing operator\n",
        "\n",
        "# Lo que nos indica este ejm es que la clave está separada por :, luego al ingresar x['Christopher Brooks']\n",
        "# (clave), el valor resultante debe ser 'brooksch@umich.edu' (elemento). Siempre vamos a usar :."
      ],
      "metadata": {
        "colab": {
          "base_uri": "https://localhost:8080/",
          "height": 35
        },
        "id": "hbljeSazfrd5",
        "outputId": "0d9bd216-96cb-4056-9e82-f3c0b975776d"
      },
      "execution_count": 29,
      "outputs": [
        {
          "output_type": "execute_result",
          "data": {
            "text/plain": [
              "'brooksch@umich.edu'"
            ],
            "application/vnd.google.colaboratory.intrinsic+json": {
              "type": "string"
            }
          },
          "metadata": {},
          "execution_count": 29
        }
      ]
    },
    {
      "cell_type": "markdown",
      "source": [
        "### Python More on Strings:"
      ],
      "metadata": {
        "id": "WtUtL8_KUcWJ"
      }
    },
    {
      "cell_type": "code",
      "source": [
        "# En este ejemplo vemos que mediante la función .format() podemos editar el diccionario\n",
        "# inicial 'sales_record' e ingresarlo a un diccionario nuevo 'sales_statement' el cual \n",
        "# está siendo modificado e ingresado a nuevos diccionarios con el fin de imprimir \n",
        "# {julano} compró {tanto} artículo(s) a un precio de {xxx} cada uno por un total de {xxx}\n",
        "\n",
        "sales_record = {\n",
        "    'price': 3.24,\n",
        "    'num_items': 4,\n",
        "    'person': 'Chris'}\n",
        "\n",
        "sales_statement = '{} bought {} item(s) at a price of {} each for a total of {}'\n",
        "\n",
        "print(sales_statement.format(sales_record['person'],\n",
        "                             sales_record['num_items'],\n",
        "                             sales_record['price'],\n",
        "                             sales_record['num_items'] * sales_record['price']))\n",
        "\n",
        "\"\"\" Otra cosa de Python con respecto a los str es que se puede hacer operaciones pero \n",
        "entre str, no podemos hacer str(Julián) + 2, NO, se debe hacer str(Julián) + str(2)\"\"\"\n"
      ],
      "metadata": {
        "id": "9Jlma3LlUdkg"
      },
      "execution_count": null,
      "outputs": []
    },
    {
      "cell_type": "markdown",
      "source": [
        "### Python Demonstration: Reading and Writing CSV files:"
      ],
      "metadata": {
        "id": "6W6nZW8BalMC"
      }
    },
    {
      "cell_type": "code",
      "source": [
        "# Lo primero que hacemos es importar csv para leer nuestro archivo .csv:\n",
        "import csv\n",
        "\n",
        "# Configuramos en 2 la precisión para la impresión del punto flotante, es decir, todo\n",
        "# con 2 decimales de aproximación.\n",
        "%precision 2 \n",
        "\n",
        "\n",
        "## Vamos a trabajar con la siguiente base de datos:\n",
        "\n",
        "\"\"\" Let's import our datafile mpg.csv, which contains fuel economy data for 234 cars.\n",
        "\n",
        "mpg : miles per gallon\n",
        "class : car classification\n",
        "cty : city mpg\n",
        "cyl : # of cylinders\n",
        "displ : engine displacement in liters\n",
        "drv : f = front-wheel drive, r = rear wheel drive, 4 = 4wd\n",
        "fl : fuel (e = ethanol E85, d = diesel, r = regular, p = premium, c = CNG)\n",
        "hwy : highway mpg\n",
        "manufacturer : automobile manufacturer\n",
        "model : model of car\n",
        "trans : type of transmission\n",
        "year : model year\"\"\"\n",
        "\n",
        "with open ('mpg.csv') as csvfile: # ó with open ('/content/mpg.csv') as csvfile:\n",
        "  mpg = list(csv.DictReader(csvfile)) # vamos a leer la base como una lista de diccionarios\n",
        "\n",
        "mpg[:3] # Véamos los primeros tres elementos (diccionarios) de nuestra lista.\n"
      ],
      "metadata": {
        "colab": {
          "base_uri": "https://localhost:8080/"
        },
        "id": "MEWGuRzUamwY",
        "outputId": "9a02747a-3f11-4944-a356-be8e0beec3b3"
      },
      "execution_count": 24,
      "outputs": [
        {
          "output_type": "execute_result",
          "data": {
            "text/plain": [
              "[{'': '1',\n",
              "  'manufacturer': 'audi',\n",
              "  'model': 'a4',\n",
              "  'displ': '1.8',\n",
              "  'year': '1999',\n",
              "  'cyl': '4',\n",
              "  'trans': 'auto(l5)',\n",
              "  'drv': 'f',\n",
              "  'cty': '18',\n",
              "  'hwy': '29',\n",
              "  'fl': 'p',\n",
              "  'class': 'compact'},\n",
              " {'': '2',\n",
              "  'manufacturer': 'audi',\n",
              "  'model': 'a4',\n",
              "  'displ': '1.8',\n",
              "  'year': '1999',\n",
              "  'cyl': '4',\n",
              "  'trans': 'manual(m5)',\n",
              "  'drv': 'f',\n",
              "  'cty': '21',\n",
              "  'hwy': '29',\n",
              "  'fl': 'p',\n",
              "  'class': 'compact'},\n",
              " {'': '3',\n",
              "  'manufacturer': 'audi',\n",
              "  'model': 'a4',\n",
              "  'displ': '2',\n",
              "  'year': '2008',\n",
              "  'cyl': '4',\n",
              "  'trans': 'manual(m6)',\n",
              "  'drv': 'f',\n",
              "  'cty': '20',\n",
              "  'hwy': '31',\n",
              "  'fl': 'p',\n",
              "  'class': 'compact'}]"
            ]
          },
          "metadata": {},
          "execution_count": 24
        }
      ]
    },
    {
      "cell_type": "code",
      "source": [
        "# Miremos la cantidad de elementos en la lista:\n",
        "len(mpg)\n",
        "\n",
        "## Es decir, tenemos 234 diccionarios, cada uno con la información de un vehículo"
      ],
      "metadata": {
        "colab": {
          "base_uri": "https://localhost:8080/"
        },
        "id": "G5-42M7pf5EK",
        "outputId": "f69eb55a-c087-41e1-ddf5-9c3c1c096085"
      },
      "execution_count": 31,
      "outputs": [
        {
          "output_type": "execute_result",
          "data": {
            "text/plain": [
              "234"
            ]
          },
          "metadata": {},
          "execution_count": 31
        }
      ]
    },
    {
      "cell_type": "code",
      "source": [
        "# Para ver las variables que tenemos, lo hacemos con lo siguiente:\n",
        "mpg[0].keys() \n",
        "## Para mpg[i], i puede ser cualquier número desde 0 hasta (n=234)-1, la importancia \n",
        "## es ver cuáles son los nombres de las variables"
      ],
      "metadata": {
        "id": "1Y72pTMOgZ3i",
        "outputId": "225ad2a1-c3d6-4f9a-e9b0-4776de338156",
        "colab": {
          "base_uri": "https://localhost:8080/"
        }
      },
      "execution_count": 35,
      "outputs": [
        {
          "output_type": "execute_result",
          "data": {
            "text/plain": [
              "dict_keys(['', 'manufacturer', 'model', 'displ', 'year', 'cyl', 'trans', 'drv', 'cty', 'hwy', 'fl', 'class'])"
            ]
          },
          "metadata": {},
          "execution_count": 35
        }
      ]
    },
    {
      "cell_type": "code",
      "source": [
        "# Para realizar por ejm un promedio en la cantidad de miles de galores en todas las ciudades:\n",
        "sum(float(d[\"cty\"]) for d in mpg) / len(mpg)"
      ],
      "metadata": {
        "id": "2ZHpil7Ohfyt",
        "outputId": "f334c7f7-8ae2-4da8-ee0f-5ec335214ef8",
        "colab": {
          "base_uri": "https://localhost:8080/"
        }
      },
      "execution_count": 36,
      "outputs": [
        {
          "output_type": "execute_result",
          "data": {
            "text/plain": [
              "16.86"
            ]
          },
          "metadata": {},
          "execution_count": 36
        }
      ]
    }
  ]
}