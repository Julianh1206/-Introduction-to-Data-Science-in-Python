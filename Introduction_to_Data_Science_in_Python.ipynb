{
  "nbformat": 4,
  "nbformat_minor": 0,
  "metadata": {
    "colab": {
      "provenance": [],
      "authorship_tag": "ABX9TyOZcJlg2CXIK8A3U5OEH5Zs",
      "include_colab_link": true
    },
    "kernelspec": {
      "name": "python3",
      "display_name": "Python 3"
    },
    "language_info": {
      "name": "python"
    }
  },
  "cells": [
    {
      "cell_type": "markdown",
      "metadata": {
        "id": "view-in-github",
        "colab_type": "text"
      },
      "source": [
        "<a href=\"https://colab.research.google.com/github/Julianh1206/-Introduction-to-Data-Science-in-Python/blob/main/Introduction_to_Data_Science_in_Python.ipynb\" target=\"_parent\"><img src=\"https://colab.research.google.com/assets/colab-badge.svg\" alt=\"Open In Colab\"/></a>"
      ]
    },
    {
      "cell_type": "markdown",
      "source": [
        "## **Introduction to Data Science in Python (Coursera)**"
      ],
      "metadata": {
        "id": "1YI8_YLb7JJy"
      }
    },
    {
      "cell_type": "markdown",
      "source": [
        "## Semana 1:"
      ],
      "metadata": {
        "id": "T5kOXJEDvSXN"
      }
    },
    {
      "cell_type": "code",
      "execution_count": 2,
      "metadata": {
        "colab": {
          "base_uri": "https://localhost:8080/"
        },
        "id": "9Ehm0b-n7DOm",
        "outputId": "36a53e04-0cd5-4ee9-9243-bee953a5e44f"
      },
      "outputs": [
        {
          "output_type": "execute_result",
          "data": {
            "text/plain": [
              "3"
            ]
          },
          "metadata": {},
          "execution_count": 2
        }
      ],
      "source": [
        "# La idea es que el tercer valor sea opcional, si ese tercer valor (kind) es 'add', entonces realizar la suma. En caso \n",
        "# contrario se debera restar el segundo del primero (a-b)\n",
        "\n",
        "## Base:\n",
        "\"\"\"\n",
        "def do_math(?, ?, ?):\n",
        "  if (kind=='add'):\n",
        "    return a+b\n",
        "  else:\n",
        "    return a-b\n",
        "\n",
        "do_math(1, 2) \"\"\"\n",
        "\n",
        "def do_math(a, b, kind = None):\n",
        "  if (kind=='add'):\n",
        "    return a+b\n",
        "  else:\n",
        "    return a-b\n",
        "\n",
        "## Pruebas\n",
        "do_math(1,2)\n",
        "do_math(1,2, 'add')"
      ]
    }
  ]
}