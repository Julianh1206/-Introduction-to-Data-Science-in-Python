{
  "nbformat": 4,
  "nbformat_minor": 0,
  "metadata": {
    "colab": {
      "provenance": [],
      "authorship_tag": "ABX9TyN8lNsU/7i7/rSN3xjwm1qI",
      "include_colab_link": true
    },
    "kernelspec": {
      "name": "python3",
      "display_name": "Python 3"
    },
    "language_info": {
      "name": "python"
    }
  },
  "cells": [
    {
      "cell_type": "markdown",
      "metadata": {
        "id": "view-in-github",
        "colab_type": "text"
      },
      "source": [
        "<a href=\"https://colab.research.google.com/github/Julianh1206/-Introduction-to-Data-Science-in-Python/blob/main/Introduction_to_Data_Science_in_Python.ipynb\" target=\"_parent\"><img src=\"https://colab.research.google.com/assets/colab-badge.svg\" alt=\"Open In Colab\"/></a>"
      ]
    },
    {
      "cell_type": "markdown",
      "source": [
        "## **Introduction to Data Science in Python (Coursera)**"
      ],
      "metadata": {
        "id": "1YI8_YLb7JJy"
      }
    },
    {
      "cell_type": "markdown",
      "source": [
        "## Semana 1:"
      ],
      "metadata": {
        "id": "T5kOXJEDvSXN"
      }
    },
    {
      "cell_type": "markdown",
      "source": [
        "### Python Functions:"
      ],
      "metadata": {
        "id": "oQCTctib_uk8"
      }
    },
    {
      "cell_type": "code",
      "execution_count": null,
      "metadata": {
        "colab": {
          "base_uri": "https://localhost:8080/"
        },
        "id": "9Ehm0b-n7DOm",
        "outputId": "90e1a2f7-9f8d-46ba-e2e6-d9d3502cf7a5"
      },
      "outputs": [
        {
          "output_type": "execute_result",
          "data": {
            "text/plain": [
              "3"
            ]
          },
          "metadata": {},
          "execution_count": 25
        }
      ],
      "source": [
        "# La idea es que el tercer valor sea opcional, si ese tercer valor (kind) es 'add', entonces realizar la suma. En caso \n",
        "# contrario se debera restar el segundo del primero (a-b)\n",
        "\n",
        "## Base:\n",
        "\"\"\"\n",
        "def do_math(?, ?, ?):\n",
        "  if (kind=='add'):\n",
        "    return a+b\n",
        "  else:\n",
        "    return a-b\n",
        "\n",
        "do_math(1, 2) \"\"\"\n",
        "\n",
        "def do_math(a, b, kind = None):\n",
        "  if (kind=='add'):\n",
        "    return a+b\n",
        "  else:\n",
        "    return a-b\n",
        "\n",
        "## Pruebas\n",
        "do_math(1,2)\n",
        "do_math(1,2, 'add')\n",
        "\n",
        "# Nota: cuando ponemos ese '= None', lo que realiza es dejar la variable abierta. Es decir, se pueden\n",
        "# ingresar los dos parámetros y lo va a ejecutar pero si se ingresa el tercero, va a operar con respecto\n",
        "# a las condiciones que se pusieron en la función.\n"
      ]
    },
    {
      "cell_type": "markdown",
      "source": [
        "### Python Types and Sequences:"
      ],
      "metadata": {
        "id": "DWdlD54W_zMW"
      }
    },
    {
      "cell_type": "code",
      "source": [
        "\"\"\" La ausencia de tipificación en Python NO significa que no hay tipos. Está la función type()\n",
        "para identificar el tipo de variable de interés. En este caso vamos a tratar sobre las tuplas, listas\n",
        "y diccionarios. \n",
        "Las tuplas se crean con () y son inmutables (No se pueden modificar), ejm:\n",
        "x = (1, 'a', 2, 'rt') -> tupla\n",
        "Las listas las definimos con [] y éstas sí son mutables e iterables, modificables. Ejm:\n",
        "x = [1, 'a', 2, 'rt'] -> lista, para rebanar la lista usamos -> x[0:n+1] y la lista devuelve hasta n.\n",
        "En caso de no ponerle el cero, es decir, de escribir x[:3], Python por defecto saber que es desde 0, \n",
        "lo mismo en caso contrario, si se pone x[3:], va desde el x[3] hasta el último elemento de la lista.\n",
        "Ejm: \"\"\"\n",
        "\n",
        "## What would be an appropriate slice to get the name \"Christopher\" from the string \"Dr. Christopher Brooks\"?\n",
        "x = 'Dr. Christopher Brooks'\n",
        "print(x[4:15])\n",
        "\n"
      ],
      "metadata": {
        "colab": {
          "base_uri": "https://localhost:8080/"
        },
        "id": "P2U1180u_25s",
        "outputId": "1ece8a2e-9d64-4781-fb57-6973bdc17de9"
      },
      "execution_count": null,
      "outputs": [
        {
          "output_type": "stream",
          "name": "stdout",
          "text": [
            "Christopher\n"
          ]
        }
      ]
    },
    {
      "cell_type": "code",
      "source": [
        "# Luego, para definir las categorias en una tupla podemos hacerlo de la siguiente manera:\n",
        "tupla1 = (\"Julián Saavedra Echavarría\", 22, \"Medellín\", \"jsaavedrae@unal.edu.co\")\n",
        "nombre, edad, ciudad, correo = tupla1\n",
        "print(nombre) # Prueba"
      ],
      "metadata": {
        "colab": {
          "base_uri": "https://localhost:8080/"
        },
        "id": "_03refMefrEZ",
        "outputId": "efbfc5fa-881b-4191-b63f-a85e5a8b061a"
      },
      "execution_count": null,
      "outputs": [
        {
          "output_type": "stream",
          "name": "stdout",
          "text": [
            "Julián Saavedra Echavarría\n"
          ]
        }
      ]
    },
    {
      "cell_type": "code",
      "source": [
        "## Otro ejm:\n",
        "firstname = 'Christopher Arthur Hansen Brooks'.split(' ')[0]  # [0] selects the first element of the list\n",
        "lastname = 'Christopher Arthur Hansen Brooks'.split(' ')[-1]  # [-1] selects the last element of the list\n",
        "print(firstname)\n",
        "print(lastname)"
      ],
      "metadata": {
        "colab": {
          "base_uri": "https://localhost:8080/"
        },
        "id": "yTD4Wu36frSU",
        "outputId": "d7bd90f1-fae3-486c-ee79-2db19ed7ff1f"
      },
      "execution_count": null,
      "outputs": [
        {
          "output_type": "stream",
          "name": "stdout",
          "text": [
            "Christopher\n",
            "Brooks\n"
          ]
        }
      ]
    },
    {
      "cell_type": "code",
      "source": [
        "\"\"\" Los diccionarios los definimos con {} y se tratan de colecciones de elementos que NO tienen\n",
        "orden, quiere decir que por cada valor que insertas en el diccionario se debe indicar cuál es \n",
        "la clave de acceso a ese elemento. Para aclarar más ese tema, tenemos un ejm: \"\"\"\n",
        "\n",
        "x = {'Christopher Brooks': 'brooksch@umich.edu', 'Bill Gates': 'billg@microsoft.com'}\n",
        "x['Christopher Brooks']  # Retrieve a value by using the indexing operator\n",
        "\n",
        "# Lo que nos indica este ejm es que la clave está separada por :, luego al ingresar x['Christopher Brooks']\n",
        "# (clave), el valor resultante debe ser 'brooksch@umich.edu' (elemento). Siempre vamos a usar :."
      ],
      "metadata": {
        "colab": {
          "base_uri": "https://localhost:8080/",
          "height": 35
        },
        "id": "hbljeSazfrd5",
        "outputId": "0d9bd216-96cb-4056-9e82-f3c0b975776d"
      },
      "execution_count": null,
      "outputs": [
        {
          "output_type": "execute_result",
          "data": {
            "text/plain": [
              "'brooksch@umich.edu'"
            ],
            "application/vnd.google.colaboratory.intrinsic+json": {
              "type": "string"
            }
          },
          "metadata": {},
          "execution_count": 29
        }
      ]
    },
    {
      "cell_type": "markdown",
      "source": [
        "### Python More on Strings:"
      ],
      "metadata": {
        "id": "WtUtL8_KUcWJ"
      }
    },
    {
      "cell_type": "code",
      "source": [
        "\"\"\" En este ejemplo vemos que mediante la función .format() podemos editar el diccionario\n",
        " inicial 'sales_record' e ingresarlo a un diccionario nuevo 'sales_statement' el cual \n",
        " está siendo modificado e ingresado a nuevos diccionarios con el fin de imprimir \n",
        " {julano} compró {tanto} artículo(s) a un precio de {xxx} cada uno por un total de {xxx}\"\"\"\n",
        "\n",
        "sales_record = {\n",
        "    'price': 3.24,\n",
        "    'num_items': 4,\n",
        "    'person': 'Chris'}\n",
        "\n",
        "sales_statement = '{} bought {} item(s) at a price of {} each for a total of {}'\n",
        "\n",
        "print(sales_statement.format(sales_record['person'],\n",
        "                             sales_record['num_items'],\n",
        "                             sales_record['price'],\n",
        "                             sales_record['num_items'] * sales_record['price']))\n",
        "\n",
        "\"\"\" Otra cosa de Python con respecto a los str es que se puede hacer operaciones pero \n",
        "entre str, no podemos hacer str(Julián) + 2, NO, se debe hacer str(Julián) + str(2)\"\"\"\n"
      ],
      "metadata": {
        "id": "9Jlma3LlUdkg"
      },
      "execution_count": null,
      "outputs": []
    },
    {
      "cell_type": "markdown",
      "source": [
        "### Python Demonstration: Reading and Writing CSV files:"
      ],
      "metadata": {
        "id": "6W6nZW8BalMC"
      }
    },
    {
      "cell_type": "code",
      "source": [
        "# Lo primero que hacemos es importar csv para leer nuestro archivo .csv:\n",
        "import csv\n",
        "\n",
        "\"\"\" Configuramos en 2 la precisión para la impresión del punto flotante, es decir, todo\n",
        " con 2 decimales de aproximación.\"\"\"\n",
        "%precision 2 \n",
        "\n",
        "\n",
        "## Vamos a trabajar con la siguiente base de datos:\n",
        "\n",
        "\"\"\" Let's import our datafile mpg.csv, which contains fuel economy data for 234 cars.\n",
        "\n",
        "mpg : miles per gallon\n",
        "class : car classification\n",
        "cty : city mpg\n",
        "cyl : # of cylinders\n",
        "displ : engine displacement in liters\n",
        "drv : f = front-wheel drive, r = rear wheel drive, 4 = 4wd\n",
        "fl : fuel (e = ethanol E85, d = diesel, r = regular, p = premium, c = CNG)\n",
        "hwy : highway mpg\n",
        "manufacturer : automobile manufacturer\n",
        "model : model of car\n",
        "trans : type of transmission\n",
        "year : model year\"\"\"\n",
        "\n",
        "with open ('mpg.csv') as csvfile: # ó with open ('/content/mpg.csv') as csvfile:\n",
        "  mpg = list(csv.DictReader(csvfile)) # vamos a leer la base como una lista de diccionarios\n",
        "\n",
        "mpg[:3] # Véamos los primeros tres elementos (diccionarios) de nuestra lista.\n"
      ],
      "metadata": {
        "colab": {
          "base_uri": "https://localhost:8080/"
        },
        "id": "MEWGuRzUamwY",
        "outputId": "7fc41943-36ac-47b1-b270-9a1d55d3973e"
      },
      "execution_count": 4,
      "outputs": [
        {
          "output_type": "execute_result",
          "data": {
            "text/plain": [
              "[{'': '1',\n",
              "  'manufacturer': 'audi',\n",
              "  'model': 'a4',\n",
              "  'displ': '1.8',\n",
              "  'year': '1999',\n",
              "  'cyl': '4',\n",
              "  'trans': 'auto(l5)',\n",
              "  'drv': 'f',\n",
              "  'cty': '18',\n",
              "  'hwy': '29',\n",
              "  'fl': 'p',\n",
              "  'class': 'compact'},\n",
              " {'': '2',\n",
              "  'manufacturer': 'audi',\n",
              "  'model': 'a4',\n",
              "  'displ': '1.8',\n",
              "  'year': '1999',\n",
              "  'cyl': '4',\n",
              "  'trans': 'manual(m5)',\n",
              "  'drv': 'f',\n",
              "  'cty': '21',\n",
              "  'hwy': '29',\n",
              "  'fl': 'p',\n",
              "  'class': 'compact'},\n",
              " {'': '3',\n",
              "  'manufacturer': 'audi',\n",
              "  'model': 'a4',\n",
              "  'displ': '2',\n",
              "  'year': '2008',\n",
              "  'cyl': '4',\n",
              "  'trans': 'manual(m6)',\n",
              "  'drv': 'f',\n",
              "  'cty': '20',\n",
              "  'hwy': '31',\n",
              "  'fl': 'p',\n",
              "  'class': 'compact'}]"
            ]
          },
          "metadata": {},
          "execution_count": 4
        }
      ]
    },
    {
      "cell_type": "code",
      "source": [
        "# Miremos la cantidad de elementos en la lista:\n",
        "len(mpg)\n",
        "\n",
        "## Es decir, tenemos 234 diccionarios, cada uno con la información de un vehículo"
      ],
      "metadata": {
        "colab": {
          "base_uri": "https://localhost:8080/"
        },
        "id": "G5-42M7pf5EK",
        "outputId": "b3ff9e21-26ed-4df7-cec3-09864888b5de"
      },
      "execution_count": 5,
      "outputs": [
        {
          "output_type": "execute_result",
          "data": {
            "text/plain": [
              "234"
            ]
          },
          "metadata": {},
          "execution_count": 5
        }
      ]
    },
    {
      "cell_type": "code",
      "source": [
        "# Para ver las variables que tenemos, lo hacemos con lo siguiente:\n",
        "mpg[0].keys() \n",
        "## Para mpg[i], i puede ser cualquier número desde 0 hasta (n=234)-1, la importancia \n",
        "## es ver cuáles son los nombres de las variables"
      ],
      "metadata": {
        "id": "1Y72pTMOgZ3i",
        "outputId": "9602c1f2-34df-4143-8433-2da402c01fba",
        "colab": {
          "base_uri": "https://localhost:8080/"
        }
      },
      "execution_count": 6,
      "outputs": [
        {
          "output_type": "execute_result",
          "data": {
            "text/plain": [
              "dict_keys(['', 'manufacturer', 'model', 'displ', 'year', 'cyl', 'trans', 'drv', 'cty', 'hwy', 'fl', 'class'])"
            ]
          },
          "metadata": {},
          "execution_count": 6
        }
      ]
    },
    {
      "cell_type": "code",
      "source": [
        "# Para realizar por ejm un promedio en la cantidad de miles de galores en todas las ciudades:\n",
        "sum(float(d[\"cty\"]) for d in mpg) / len(mpg)"
      ],
      "metadata": {
        "id": "2ZHpil7Ohfyt",
        "outputId": "fc72bbb8-c08b-4031-8276-2cf1267279df",
        "colab": {
          "base_uri": "https://localhost:8080/"
        }
      },
      "execution_count": 7,
      "outputs": [
        {
          "output_type": "execute_result",
          "data": {
            "text/plain": [
              "16.86"
            ]
          },
          "metadata": {},
          "execution_count": 7
        }
      ]
    },
    {
      "cell_type": "code",
      "source": [
        "# Usamose set() para devolver los valores únicos para la cantidad de cilindros que tienen los autos en nuestro conjunto de datos.\n",
        "cylinders = set(d['cyl'] for d in mpg)\n",
        "cylinders"
      ],
      "metadata": {
        "colab": {
          "base_uri": "https://localhost:8080/"
        },
        "id": "zDUgsOIo6fKr",
        "outputId": "bbd9a5cd-c707-4da2-eb50-96803b796cb5"
      },
      "execution_count": 8,
      "outputs": [
        {
          "output_type": "execute_result",
          "data": {
            "text/plain": [
              "{'4', '5', '6', '8'}"
            ]
          },
          "metadata": {},
          "execution_count": 8
        }
      ]
    },
    {
      "cell_type": "code",
      "source": [
        "\"\"\"Aquí hay un ejemplo más complejo en el que estamos agrupando los autos por número \n",
        "de cilindros y encontrando el promedio de mpg en la ciudad para cada grupo: \"\"\"\n",
        "CtyMpgByCyl = []\n",
        "\n",
        "for c in cylinders:  # iterate over all the cylinder levels\n",
        "    summpg = 0\n",
        "    cyltypecount = 0\n",
        "    for d in mpg:  # iterate over all dictionaries\n",
        "        if d['cyl'] == c:  # if the cylinder level type matches,\n",
        "            summpg += float(d['cty'])  # add the cty mpg\n",
        "            cyltypecount += 1  # increment the count\n",
        "    CtyMpgByCyl.append((c, summpg / cyltypecount))  # append the tuple ('cylinder', 'avg mpg')\n",
        "\n",
        "CtyMpgByCyl.sort(key=lambda x: x[0]) ## Ordenando por la cantidad de cilindros\n",
        "CtyMpgByCyl"
      ],
      "metadata": {
        "colab": {
          "base_uri": "https://localhost:8080/"
        },
        "id": "j8x8eiqG7N6S",
        "outputId": "01470c5a-ad11-4733-a83b-d938c2bf1a55"
      },
      "execution_count": 9,
      "outputs": [
        {
          "output_type": "execute_result",
          "data": {
            "text/plain": [
              "[('4', 21.01), ('5', 20.50), ('6', 16.22), ('8', 12.57)]"
            ]
          },
          "metadata": {},
          "execution_count": 9
        }
      ]
    },
    {
      "cell_type": "code",
      "source": [
        "# Ahora hagamos lo mismo pero con la clase de vehículo:\n",
        "vehicleclass = set(d['class'] for d in mpg)  # what are the class types\n",
        "vehicleclass"
      ],
      "metadata": {
        "id": "YiMCfaAO7t1L",
        "outputId": "3fb86e18-0b1f-4207-f54c-8ef1b85790d6",
        "colab": {
          "base_uri": "https://localhost:8080/"
        }
      },
      "execution_count": 10,
      "outputs": [
        {
          "output_type": "execute_result",
          "data": {
            "text/plain": [
              "{'2seater', 'compact', 'midsize', 'minivan', 'pickup', 'subcompact', 'suv'}"
            ]
          },
          "metadata": {},
          "execution_count": 10
        }
      ]
    },
    {
      "cell_type": "code",
      "source": [
        "HwyMpgByClass = []\n",
        "\n",
        "for t in vehicleclass:  # iterate over all the vehicle classes\n",
        "    summpg = 0\n",
        "    vclasscount = 0\n",
        "    for d in mpg:  # iterate over all dictionaries\n",
        "        if d['class'] == t:  # if the cylinder amount type matches,\n",
        "            summpg += float(d['hwy'])  # add the hwy mpg\n",
        "            vclasscount += 1  # increment the count\n",
        "    HwyMpgByClass.append((t, summpg / vclasscount))  # append the tuple ('class', 'avg mpg')\n",
        "\n",
        "HwyMpgByClass.sort(key=lambda x: x[1]) ## Aquí estamos ordenando por promedio (menor a mayor)\n",
        "HwyMpgByClass"
      ],
      "metadata": {
        "id": "9e1fNzny761d",
        "outputId": "1ac455f8-f846-485d-f1eb-eab0d16f1272",
        "colab": {
          "base_uri": "https://localhost:8080/"
        }
      },
      "execution_count": 11,
      "outputs": [
        {
          "output_type": "execute_result",
          "data": {
            "text/plain": [
              "[('pickup', 16.88),\n",
              " ('suv', 18.13),\n",
              " ('minivan', 22.36),\n",
              " ('2seater', 24.80),\n",
              " ('midsize', 27.29),\n",
              " ('subcompact', 28.14),\n",
              " ('compact', 28.30)]"
            ]
          },
          "metadata": {},
          "execution_count": 11
        }
      ]
    },
    {
      "cell_type": "markdown",
      "source": [
        "### Advanced Python Objects, map():"
      ],
      "metadata": {
        "id": "XU4fUuYSLdn9"
      }
    },
    {
      "cell_type": "code",
      "source": [],
      "metadata": {
        "id": "-_AhxlS6Lf3G"
      },
      "execution_count": null,
      "outputs": []
    }
  ]
}