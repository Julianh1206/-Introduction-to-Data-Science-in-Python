{
  "nbformat": 4,
  "nbformat_minor": 0,
  "metadata": {
    "colab": {
      "provenance": [],
      "authorship_tag": "ABX9TyPebnAah23Pwhy6woFZHc+D",
      "include_colab_link": true
    },
    "kernelspec": {
      "name": "python3",
      "display_name": "Python 3"
    },
    "language_info": {
      "name": "python"
    }
  },
  "cells": [
    {
      "cell_type": "markdown",
      "metadata": {
        "id": "view-in-github",
        "colab_type": "text"
      },
      "source": [
        "<a href=\"https://colab.research.google.com/github/Julianh1206/-Introduction-to-Data-Science-in-Python/blob/main/Introduction_to_Data_Science_in_Python.ipynb\" target=\"_parent\"><img src=\"https://colab.research.google.com/assets/colab-badge.svg\" alt=\"Open In Colab\"/></a>"
      ]
    },
    {
      "cell_type": "markdown",
      "source": [
        "## **Introduction to Data Science in Python (Coursera)**"
      ],
      "metadata": {
        "id": "1YI8_YLb7JJy"
      }
    },
    {
      "cell_type": "markdown",
      "source": [
        "# Semana 1:"
      ],
      "metadata": {
        "id": "T5kOXJEDvSXN"
      }
    },
    {
      "cell_type": "markdown",
      "source": [
        "## Introducción al curso:"
      ],
      "metadata": {
        "id": "zakOg0Pksbxh"
      }
    },
    {
      "cell_type": "markdown",
      "source": [
        "### Python Functions:"
      ],
      "metadata": {
        "id": "oQCTctib_uk8"
      }
    },
    {
      "cell_type": "code",
      "execution_count": null,
      "metadata": {
        "colab": {
          "base_uri": "https://localhost:8080/"
        },
        "id": "9Ehm0b-n7DOm",
        "outputId": "90e1a2f7-9f8d-46ba-e2e6-d9d3502cf7a5"
      },
      "outputs": [
        {
          "output_type": "execute_result",
          "data": {
            "text/plain": [
              "3"
            ]
          },
          "metadata": {},
          "execution_count": 25
        }
      ],
      "source": [
        "# La idea es que el tercer valor sea opcional, si ese tercer valor (kind) es 'add', entonces realizar la suma. En caso \n",
        "# contrario se debera restar el segundo del primero (a-b)\n",
        "\n",
        "## Base:\n",
        "\"\"\"\n",
        "def do_math(?, ?, ?):\n",
        "  if (kind=='add'):\n",
        "    return a+b\n",
        "  else:\n",
        "    return a-b\n",
        "\n",
        "do_math(1, 2) \"\"\"\n",
        "\n",
        "def do_math(a, b, kind = None):\n",
        "  if (kind=='add'):\n",
        "    return a+b\n",
        "  else:\n",
        "    return a-b\n",
        "\n",
        "## Pruebas\n",
        "do_math(1,2)\n",
        "do_math(1,2, 'add')\n",
        "\n",
        "# Nota: cuando ponemos ese '= None', lo que realiza es dejar la variable abierta. Es decir, se pueden\n",
        "# ingresar los dos parámetros y lo va a ejecutar pero si se ingresa el tercero, va a operar con respecto\n",
        "# a las condiciones que se pusieron en la función.\n"
      ]
    },
    {
      "cell_type": "markdown",
      "source": [
        "### Python Types and Sequences:"
      ],
      "metadata": {
        "id": "DWdlD54W_zMW"
      }
    },
    {
      "cell_type": "code",
      "source": [
        "\"\"\" La ausencia de tipificación en Python NO significa que no hay tipos. Está la función type()\n",
        "para identificar el tipo de variable de interés. En este caso vamos a tratar sobre las tuplas, listas\n",
        "y diccionarios. \n",
        "Las tuplas se crean con () y son inmutables (No se pueden modificar), ejm:\n",
        "x = (1, 'a', 2, 'rt') -> tupla\n",
        "Las listas las definimos con [] y éstas sí son mutables e iterables, modificables. Ejm:\n",
        "x = [1, 'a', 2, 'rt'] -> lista, para rebanar la lista usamos -> x[0:n+1] y la lista devuelve hasta n.\n",
        "En caso de no ponerle el cero, es decir, de escribir x[:3], Python por defecto saber que es desde 0, \n",
        "lo mismo en caso contrario, si se pone x[3:], va desde el x[3] hasta el último elemento de la lista.\n",
        "Ejm: \"\"\"\n",
        "\n",
        "## What would be an appropriate slice to get the name \"Christopher\" from the string \"Dr. Christopher Brooks\"?\n",
        "x = 'Dr. Christopher Brooks'\n",
        "print(x[4:15])\n",
        "\n"
      ],
      "metadata": {
        "colab": {
          "base_uri": "https://localhost:8080/"
        },
        "id": "P2U1180u_25s",
        "outputId": "1ece8a2e-9d64-4781-fb57-6973bdc17de9"
      },
      "execution_count": null,
      "outputs": [
        {
          "output_type": "stream",
          "name": "stdout",
          "text": [
            "Christopher\n"
          ]
        }
      ]
    },
    {
      "cell_type": "code",
      "source": [
        "# Luego, para definir las categorias en una tupla podemos hacerlo de la siguiente manera:\n",
        "tupla1 = (\"Julián Saavedra Echavarría\", 22, \"Medellín\", \"jsaavedrae@unal.edu.co\")\n",
        "nombre, edad, ciudad, correo = tupla1\n",
        "print(nombre) # Prueba"
      ],
      "metadata": {
        "colab": {
          "base_uri": "https://localhost:8080/"
        },
        "id": "_03refMefrEZ",
        "outputId": "efbfc5fa-881b-4191-b63f-a85e5a8b061a"
      },
      "execution_count": null,
      "outputs": [
        {
          "output_type": "stream",
          "name": "stdout",
          "text": [
            "Julián Saavedra Echavarría\n"
          ]
        }
      ]
    },
    {
      "cell_type": "code",
      "source": [
        "## Otro ejm:\n",
        "firstname = 'Christopher Arthur Hansen Brooks'.split(' ')[0]  # [0] selects the first element of the list\n",
        "lastname = 'Christopher Arthur Hansen Brooks'.split(' ')[-1]  # [-1] selects the last element of the list\n",
        "print(firstname)\n",
        "print(lastname)"
      ],
      "metadata": {
        "colab": {
          "base_uri": "https://localhost:8080/"
        },
        "id": "yTD4Wu36frSU",
        "outputId": "d7bd90f1-fae3-486c-ee79-2db19ed7ff1f"
      },
      "execution_count": null,
      "outputs": [
        {
          "output_type": "stream",
          "name": "stdout",
          "text": [
            "Christopher\n",
            "Brooks\n"
          ]
        }
      ]
    },
    {
      "cell_type": "code",
      "source": [
        "\"\"\" Los diccionarios los definimos con {} y se tratan de colecciones de elementos que NO tienen\n",
        "orden, quiere decir que por cada valor que insertas en el diccionario se debe indicar cuál es \n",
        "la clave de acceso a ese elemento. Para aclarar más ese tema, tenemos un ejm: \"\"\"\n",
        "\n",
        "x = {'Christopher Brooks': 'brooksch@umich.edu', 'Bill Gates': 'billg@microsoft.com'}\n",
        "x['Christopher Brooks']  # Retrieve a value by using the indexing operator\n",
        "\n",
        "# Lo que nos indica este ejm es que la clave está separada por :, luego al ingresar x['Christopher Brooks']\n",
        "# (clave), el valor resultante debe ser 'brooksch@umich.edu' (elemento). Siempre vamos a usar :."
      ],
      "metadata": {
        "colab": {
          "base_uri": "https://localhost:8080/",
          "height": 35
        },
        "id": "hbljeSazfrd5",
        "outputId": "0d9bd216-96cb-4056-9e82-f3c0b975776d"
      },
      "execution_count": null,
      "outputs": [
        {
          "output_type": "execute_result",
          "data": {
            "text/plain": [
              "'brooksch@umich.edu'"
            ],
            "application/vnd.google.colaboratory.intrinsic+json": {
              "type": "string"
            }
          },
          "metadata": {},
          "execution_count": 29
        }
      ]
    },
    {
      "cell_type": "markdown",
      "source": [
        "### Python More on Strings:"
      ],
      "metadata": {
        "id": "WtUtL8_KUcWJ"
      }
    },
    {
      "cell_type": "code",
      "source": [
        "\"\"\" En este ejemplo vemos que mediante la función .format() podemos editar el diccionario\n",
        " inicial 'sales_record' e ingresarlo a un diccionario nuevo 'sales_statement' el cual \n",
        " está siendo modificado e ingresado a nuevos diccionarios con el fin de imprimir \n",
        " {julano} compró {tanto} artículo(s) a un precio de {xxx} cada uno por un total de {xxx}\"\"\"\n",
        "\n",
        "sales_record = {\n",
        "    'price': 3.24,\n",
        "    'num_items': 4,\n",
        "    'person': 'Chris'}\n",
        "\n",
        "sales_statement = '{} bought {} item(s) at a price of {} each for a total of {}'\n",
        "\n",
        "print(sales_statement.format(sales_record['person'],\n",
        "                             sales_record['num_items'],\n",
        "                             sales_record['price'],\n",
        "                             sales_record['num_items'] * sales_record['price']))\n",
        "\n",
        "\"\"\" Otra cosa de Python con respecto a los str es que se puede hacer operaciones pero \n",
        "entre str, no podemos hacer str(Julián) + 2, NO, se debe hacer str(Julián) + str(2)\"\"\"\n"
      ],
      "metadata": {
        "id": "9Jlma3LlUdkg"
      },
      "execution_count": null,
      "outputs": []
    },
    {
      "cell_type": "markdown",
      "source": [
        "### Python Demonstration: Reading and Writing CSV files:"
      ],
      "metadata": {
        "id": "6W6nZW8BalMC"
      }
    },
    {
      "cell_type": "code",
      "source": [
        "# Lo primero que hacemos es importar csv para leer nuestro archivo .csv:\n",
        "import csv\n",
        "\n",
        "\"\"\" Configuramos en 2 la precisión para la impresión del punto flotante, es decir, todo\n",
        " con 2 decimales de aproximación.\"\"\"\n",
        "%precision 2 \n",
        "\n",
        "\n",
        "## Vamos a trabajar con la siguiente base de datos:\n",
        "\n",
        "\"\"\" Let's import our datafile mpg.csv, which contains fuel economy data for 234 cars.\n",
        "\n",
        "mpg : miles per gallon\n",
        "class : car classification\n",
        "cty : city mpg\n",
        "cyl : # of cylinders\n",
        "displ : engine displacement in liters\n",
        "drv : f = front-wheel drive, r = rear wheel drive, 4 = 4wd\n",
        "fl : fuel (e = ethanol E85, d = diesel, r = regular, p = premium, c = CNG)\n",
        "hwy : highway mpg\n",
        "manufacturer : automobile manufacturer\n",
        "model : model of car\n",
        "trans : type of transmission\n",
        "year : model year\"\"\"\n",
        "\n",
        "with open ('mpg.csv') as csvfile: # ó with open ('/content/mpg.csv') as csvfile:\n",
        "  mpg = list(csv.DictReader(csvfile)) # vamos a leer la base como una lista de diccionarios\n",
        "\n",
        "mpg[:3] # Véamos los primeros tres elementos (diccionarios) de nuestra lista.\n"
      ],
      "metadata": {
        "colab": {
          "base_uri": "https://localhost:8080/"
        },
        "id": "MEWGuRzUamwY",
        "outputId": "7fc41943-36ac-47b1-b270-9a1d55d3973e"
      },
      "execution_count": null,
      "outputs": [
        {
          "output_type": "execute_result",
          "data": {
            "text/plain": [
              "[{'': '1',\n",
              "  'manufacturer': 'audi',\n",
              "  'model': 'a4',\n",
              "  'displ': '1.8',\n",
              "  'year': '1999',\n",
              "  'cyl': '4',\n",
              "  'trans': 'auto(l5)',\n",
              "  'drv': 'f',\n",
              "  'cty': '18',\n",
              "  'hwy': '29',\n",
              "  'fl': 'p',\n",
              "  'class': 'compact'},\n",
              " {'': '2',\n",
              "  'manufacturer': 'audi',\n",
              "  'model': 'a4',\n",
              "  'displ': '1.8',\n",
              "  'year': '1999',\n",
              "  'cyl': '4',\n",
              "  'trans': 'manual(m5)',\n",
              "  'drv': 'f',\n",
              "  'cty': '21',\n",
              "  'hwy': '29',\n",
              "  'fl': 'p',\n",
              "  'class': 'compact'},\n",
              " {'': '3',\n",
              "  'manufacturer': 'audi',\n",
              "  'model': 'a4',\n",
              "  'displ': '2',\n",
              "  'year': '2008',\n",
              "  'cyl': '4',\n",
              "  'trans': 'manual(m6)',\n",
              "  'drv': 'f',\n",
              "  'cty': '20',\n",
              "  'hwy': '31',\n",
              "  'fl': 'p',\n",
              "  'class': 'compact'}]"
            ]
          },
          "metadata": {},
          "execution_count": 4
        }
      ]
    },
    {
      "cell_type": "code",
      "source": [
        "# Miremos la cantidad de elementos en la lista:\n",
        "len(mpg)\n",
        "\n",
        "## Es decir, tenemos 234 diccionarios, cada uno con la información de un vehículo"
      ],
      "metadata": {
        "colab": {
          "base_uri": "https://localhost:8080/"
        },
        "id": "G5-42M7pf5EK",
        "outputId": "b3ff9e21-26ed-4df7-cec3-09864888b5de"
      },
      "execution_count": null,
      "outputs": [
        {
          "output_type": "execute_result",
          "data": {
            "text/plain": [
              "234"
            ]
          },
          "metadata": {},
          "execution_count": 5
        }
      ]
    },
    {
      "cell_type": "code",
      "source": [
        "# Para ver las variables que tenemos, lo hacemos con lo siguiente:\n",
        "mpg[0].keys() \n",
        "## Para mpg[i], i puede ser cualquier número desde 0 hasta (n=234)-1, la importancia \n",
        "## es ver cuáles son los nombres de las variables"
      ],
      "metadata": {
        "id": "1Y72pTMOgZ3i",
        "outputId": "9602c1f2-34df-4143-8433-2da402c01fba",
        "colab": {
          "base_uri": "https://localhost:8080/"
        }
      },
      "execution_count": null,
      "outputs": [
        {
          "output_type": "execute_result",
          "data": {
            "text/plain": [
              "dict_keys(['', 'manufacturer', 'model', 'displ', 'year', 'cyl', 'trans', 'drv', 'cty', 'hwy', 'fl', 'class'])"
            ]
          },
          "metadata": {},
          "execution_count": 6
        }
      ]
    },
    {
      "cell_type": "code",
      "source": [
        "# Para realizar por ejm un promedio en la cantidad de miles de galores en todas las ciudades:\n",
        "sum(float(d[\"cty\"]) for d in mpg) / len(mpg)"
      ],
      "metadata": {
        "id": "2ZHpil7Ohfyt",
        "outputId": "fc72bbb8-c08b-4031-8276-2cf1267279df",
        "colab": {
          "base_uri": "https://localhost:8080/"
        }
      },
      "execution_count": null,
      "outputs": [
        {
          "output_type": "execute_result",
          "data": {
            "text/plain": [
              "16.86"
            ]
          },
          "metadata": {},
          "execution_count": 7
        }
      ]
    },
    {
      "cell_type": "code",
      "source": [
        "# Usamose set() para devolver los valores únicos para la cantidad de cilindros que tienen los autos en nuestro conjunto de datos.\n",
        "cylinders = set(d['cyl'] for d in mpg)\n",
        "cylinders"
      ],
      "metadata": {
        "colab": {
          "base_uri": "https://localhost:8080/"
        },
        "id": "zDUgsOIo6fKr",
        "outputId": "bbd9a5cd-c707-4da2-eb50-96803b796cb5"
      },
      "execution_count": null,
      "outputs": [
        {
          "output_type": "execute_result",
          "data": {
            "text/plain": [
              "{'4', '5', '6', '8'}"
            ]
          },
          "metadata": {},
          "execution_count": 8
        }
      ]
    },
    {
      "cell_type": "code",
      "source": [
        "\"\"\"Aquí hay un ejemplo más complejo en el que estamos agrupando los autos por número \n",
        "de cilindros y encontrando el promedio de mpg en la ciudad para cada grupo: \"\"\"\n",
        "CtyMpgByCyl = []\n",
        "\n",
        "for c in cylinders:  # iterate over all the cylinder levels\n",
        "    summpg = 0\n",
        "    cyltypecount = 0\n",
        "    for d in mpg:  # iterate over all dictionaries\n",
        "        if d['cyl'] == c:  # if the cylinder level type matches,\n",
        "            summpg += float(d['cty'])  # add the cty mpg\n",
        "            cyltypecount += 1  # increment the count\n",
        "    CtyMpgByCyl.append((c, summpg / cyltypecount))  # append the tuple ('cylinder', 'avg mpg')\n",
        "\n",
        "CtyMpgByCyl.sort(key=lambda x: x[0]) ## Ordenando por la cantidad de cilindros\n",
        "CtyMpgByCyl"
      ],
      "metadata": {
        "colab": {
          "base_uri": "https://localhost:8080/"
        },
        "id": "j8x8eiqG7N6S",
        "outputId": "01470c5a-ad11-4733-a83b-d938c2bf1a55"
      },
      "execution_count": null,
      "outputs": [
        {
          "output_type": "execute_result",
          "data": {
            "text/plain": [
              "[('4', 21.01), ('5', 20.50), ('6', 16.22), ('8', 12.57)]"
            ]
          },
          "metadata": {},
          "execution_count": 9
        }
      ]
    },
    {
      "cell_type": "code",
      "source": [
        "# Ahora hagamos lo mismo pero con la clase de vehículo:\n",
        "vehicleclass = set(d['class'] for d in mpg)  # what are the class types\n",
        "vehicleclass"
      ],
      "metadata": {
        "colab": {
          "base_uri": "https://localhost:8080/"
        },
        "id": "YiMCfaAO7t1L",
        "outputId": "3fb86e18-0b1f-4207-f54c-8ef1b85790d6"
      },
      "execution_count": null,
      "outputs": [
        {
          "output_type": "execute_result",
          "data": {
            "text/plain": [
              "{'2seater', 'compact', 'midsize', 'minivan', 'pickup', 'subcompact', 'suv'}"
            ]
          },
          "metadata": {},
          "execution_count": 10
        }
      ]
    },
    {
      "cell_type": "code",
      "source": [
        "HwyMpgByClass = []\n",
        "\n",
        "for t in vehicleclass:  # iterate over all the vehicle classes\n",
        "    summpg = 0\n",
        "    vclasscount = 0\n",
        "    for d in mpg:  # iterate over all dictionaries\n",
        "        if d['class'] == t:  # if the cylinder amount type matches,\n",
        "            summpg += float(d['hwy'])  # add the hwy mpg\n",
        "            vclasscount += 1  # increment the count\n",
        "    HwyMpgByClass.append((t, summpg / vclasscount))  # append the tuple ('class', 'avg mpg')\n",
        "\n",
        "HwyMpgByClass.sort(key=lambda x: x[1]) ## Aquí estamos ordenando por promedio (menor a mayor)\n",
        "HwyMpgByClass"
      ],
      "metadata": {
        "colab": {
          "base_uri": "https://localhost:8080/"
        },
        "id": "9e1fNzny761d",
        "outputId": "1ac455f8-f846-485d-f1eb-eab0d16f1272"
      },
      "execution_count": null,
      "outputs": [
        {
          "output_type": "execute_result",
          "data": {
            "text/plain": [
              "[('pickup', 16.88),\n",
              " ('suv', 18.13),\n",
              " ('minivan', 22.36),\n",
              " ('2seater', 24.80),\n",
              " ('midsize', 27.29),\n",
              " ('subcompact', 28.14),\n",
              " ('compact', 28.30)]"
            ]
          },
          "metadata": {},
          "execution_count": 11
        }
      ]
    },
    {
      "cell_type": "markdown",
      "source": [
        "### Advanced Python Objects, map():"
      ],
      "metadata": {
        "id": "XU4fUuYSLdn9"
      }
    },
    {
      "cell_type": "code",
      "source": [
        "\"\"\" Podemos definir clases: \"\"\"\n",
        "class Person:\n",
        "    department = 'School of Information'  # Una variables clase, en este caso es fija\n",
        "\n",
        "    def set_name(self, new_name):  # Dentro de la clase debemos usar funciones con \"self\" para poder \n",
        "                                   # ingresar, con el mismo self se llama a la función del objeto\n",
        "        self.name = new_name\n",
        "\n",
        "    def set_location(self, new_location):\n",
        "        self.location = new_location\n",
        "\n",
        "\"\"\"Forma de uso: \"\"\"\n",
        "person = Person()\n",
        "person.set_name('Christopher Brooks')\n",
        "person.set_location('Ann Arbor, MI, USA')\n",
        "print('{} live in {} and works in the department {}'.format(person.name, person.location, person.department))\n"
      ],
      "metadata": {
        "id": "-_AhxlS6Lf3G",
        "colab": {
          "base_uri": "https://localhost:8080/"
        },
        "outputId": "686b328c-7bba-4903-f2b4-9d911bcc3cf8"
      },
      "execution_count": null,
      "outputs": [
        {
          "output_type": "stream",
          "name": "stdout",
          "text": [
            "Christopher Brooks live in Ann Arbor, MI, USA and works in the department School of Information\n"
          ]
        }
      ]
    },
    {
      "cell_type": "code",
      "source": [
        "# Función map()\n",
        "\"\"\" Con la función map(): \n",
        "es una de las bases de la programación funcional en Python. Python no es un lenguaje funcional \n",
        "duro pero la programación funcional es muy necesaria para el análisis de datos, en especial la\n",
        "limpieza. La programación funcional nos ayuda a pensar más detenidamente en el proceso\n",
        "que vamos a realizar. \n",
        "Así, la función map() es un ejemplos de una función de programación funcional:\n",
        "map(function, iterable,...). Esta es una función iterable al igual que las listas\n",
        "y tuplas, por lo que podemos usar de manera adecuada para ver todos los valores del mapa\n",
        "Vamos a un ejm: \"\"\"\n",
        "\n",
        "# Queremos ver en dos tiendas, cuál artículo es más barato comparando artículo por artículo\n",
        "# (las dos tiendas ofrecen lo mismo a precios diferentes)\n",
        "store1 = [10.00, 11.00, 12.34, 2.34]\n",
        "store2 = [9.00, 11.10, 12.34, 2.01]\n",
        "cheapest = map(min, store1, store2)\n",
        "cheapest \n",
        "# Ahora iteremos a través del objeto de mapa para ver los valores.\n",
        "for item in cheapest:\n",
        "    print(item)"
      ],
      "metadata": {
        "colab": {
          "base_uri": "https://localhost:8080/"
        },
        "id": "D9nIwFoi86Pl",
        "outputId": "09f42f2a-5044-483d-d6c2-c9d75eb691ab"
      },
      "execution_count": null,
      "outputs": [
        {
          "output_type": "stream",
          "name": "stdout",
          "text": [
            "9.0\n",
            "11.0\n",
            "12.34\n",
            "2.01\n"
          ]
        }
      ]
    },
    {
      "cell_type": "code",
      "source": [
        "# Ejercicio del vídeo:\n",
        "\"\"\"Here is a list of faculty teaching this MOOC. Can you write a function and \n",
        "apply it using map() to get a list of all faculty titles and last names \n",
        "(e.g. ['Dr. Brooks', 'Dr. Collins-Thompson', …]) ?\"\"\"\n",
        "\n",
        "people = ['Dr. Christopher Brooks', 'Dr. Kevyn Collins-Thompson', 'Dr. VG Vinod Vydiswaran', 'Dr. Daniel Romero']\n",
        "\n",
        "\"\"\"Prueba: \n",
        "for person in people:\n",
        "  print(person.split()[0], person.split()[2]) \n",
        "La fun split() separa los str por espacio, no es necesario especificar parámetros.\"\"\"\n",
        "\n",
        "# Sln 1:\n",
        "def split_title_and_name(person): \n",
        "  return (f'Dr. {person.split()[2]}')\n",
        "\n",
        "list(map(split_title_and_name, people))\n",
        "\n",
        "# Sln 2:\n",
        "def split_title_and_name(person): \n",
        "  return person.split()[0] + ' ' + person.split()[2]\n",
        "\n",
        "list(map(split_title_and_name, people))\n",
        "\n",
        "# Sln 3: (Definitiva)\n",
        "def split_title_and_name(person): \n",
        "  titulo = person.split()[0]\n",
        "  apellido = person.split()[2]\n",
        "  return '{} {}'.format(titulo, apellido)\n",
        "\n",
        "list(map(split_title_and_name, people))"
      ],
      "metadata": {
        "colab": {
          "base_uri": "https://localhost:8080/"
        },
        "id": "Jk6q1bfdEFkZ",
        "outputId": "0ba87f4c-8859-4699-fd5d-24f5cd6c33d3"
      },
      "execution_count": null,
      "outputs": [
        {
          "output_type": "execute_result",
          "data": {
            "text/plain": [
              "['Dr. Brooks', 'Dr. Collins-Thompson', 'Dr. Vinod', 'Dr. Romero']"
            ]
          },
          "metadata": {},
          "execution_count": 19
        }
      ]
    },
    {
      "cell_type": "markdown",
      "source": [
        "### Advanced Python Lambda and List Comprehensions:"
      ],
      "metadata": {
        "id": "3XZR0RoCRQaF"
      }
    },
    {
      "cell_type": "code",
      "source": [
        "# Sobre lambda: \n",
        "\"\"\" Es la manera que tiene Python para crear funciones anónimas, la intención\n",
        "es que sean simples, de corta duración y fácil de escribir en una sola línea. \n",
        "En cuestión de sintaxis, veamos: \"\"\"\n",
        "# Aquí un ejm de una función lambda que toma tres parámetros y suma dos de ellos:\n",
        "mi_funcion = lambda a, b, c : a+b \n",
        "mi_funcion(3,4,6) ## Nota, siempre se debe ingresar todos los parámetros, así no se estén evaluando\n",
        "\n",
        "\"\"\" Estas funciones lambda son muy útiles para tareas simples de limpieza de datos \"\"\""
      ],
      "metadata": {
        "colab": {
          "base_uri": "https://localhost:8080/"
        },
        "id": "d9YAaoOcRQvr",
        "outputId": "2bca50ee-daae-405b-c7aa-c24ca8ab3b1d"
      },
      "execution_count": null,
      "outputs": [
        {
          "output_type": "execute_result",
          "data": {
            "text/plain": [
              "7"
            ]
          },
          "metadata": {},
          "execution_count": 28
        }
      ]
    },
    {
      "cell_type": "code",
      "source": [
        "## Ejercicio del vídeo (sobre lambda):\n",
        "\"\"\"Convert this function into a lambda:\"\"\"\n",
        "\n",
        "people = ['Dr. Christopher Brooks', 'Dr. Kevyn Collins-Thompson', 'Dr. VG Vinod Vydiswaran', 'Dr. Daniel Romero']\n",
        "\n",
        "def split_title_and_name(person):\n",
        "    return person.split()[0] + ' ' + person.split()[-1]\n",
        "\n",
        "#option 1\n",
        "for person in people:\n",
        "    print(split_title_and_name(person) == (lambda x: x.split()[0] + ' ' + x.split()[-1])(person))\n",
        "\n",
        "#option 2\n",
        "list(map(split_title_and_name, people)) == list(map(lambda person: person.split()[0] + ' ' + person.split()[-1], people))\n"
      ],
      "metadata": {
        "id": "40ADXab3WG_7",
        "outputId": "2de3f474-79cb-45fb-8194-4d971c5f0d82",
        "colab": {
          "base_uri": "https://localhost:8080/"
        }
      },
      "execution_count": null,
      "outputs": [
        {
          "output_type": "stream",
          "name": "stdout",
          "text": [
            "True\n",
            "True\n",
            "True\n",
            "True\n"
          ]
        },
        {
          "output_type": "execute_result",
          "data": {
            "text/plain": [
              "True"
            ]
          },
          "metadata": {},
          "execution_count": 27
        }
      ]
    },
    {
      "cell_type": "code",
      "source": [
        "# Sobre las listas de comprensión: \n",
        "\"\"\" Las secuencias son estructuras sobre las que podemos iterar y, a menudo, las creamos\n",
        "a través de bucles o leyendo datos de un archivo. Python ha incorporado soporte para crear\n",
        "estas colecciones usando una sintaxis más abreviada llamada listas de comprensión.\n",
        "Estas listas de comprensión tienden a tener un formato más compacto y es mucho más \n",
        "rápido que un ciclo común\"\"\"\n",
        "# Ejm: Queremos iterar números del 1 al 1000 y sacar los números pares a una lista,\n",
        "\n",
        "lista = []\n",
        "for numero in range(0,1000):\n",
        "  if numero % 2 == 0:\n",
        "    lista.append(numero)\n",
        "print(lista)\n",
        "\n",
        "# Ahora hagamos lo mismo pero con una lista de comprensión:\n",
        "\n",
        "lista = [numero for numero in range(0,1000) if numero%2 == 0] ## mucho más rápido\n",
        "print(lista) \n",
        "\n",
        "\"\"\" Al igual que las lambdas, las listas de compresión tiene un formato condensado que \n",
        "las hace más legibles y tienen mayor rendimiento \"\"\""
      ],
      "metadata": {
        "id": "bePVw3OHeQOt",
        "outputId": "60fe44d8-b880-4c46-ba82-417397f4ae03",
        "colab": {
          "base_uri": "https://localhost:8080/"
        }
      },
      "execution_count": 33,
      "outputs": [
        {
          "output_type": "stream",
          "name": "stdout",
          "text": [
            "[0, 2, 4, 6, 8, 10, 12, 14, 16, 18, 20, 22, 24, 26, 28, 30, 32, 34, 36, 38, 40, 42, 44, 46, 48, 50, 52, 54, 56, 58, 60, 62, 64, 66, 68, 70, 72, 74, 76, 78, 80, 82, 84, 86, 88, 90, 92, 94, 96, 98, 100, 102, 104, 106, 108, 110, 112, 114, 116, 118, 120, 122, 124, 126, 128, 130, 132, 134, 136, 138, 140, 142, 144, 146, 148, 150, 152, 154, 156, 158, 160, 162, 164, 166, 168, 170, 172, 174, 176, 178, 180, 182, 184, 186, 188, 190, 192, 194, 196, 198, 200, 202, 204, 206, 208, 210, 212, 214, 216, 218, 220, 222, 224, 226, 228, 230, 232, 234, 236, 238, 240, 242, 244, 246, 248, 250, 252, 254, 256, 258, 260, 262, 264, 266, 268, 270, 272, 274, 276, 278, 280, 282, 284, 286, 288, 290, 292, 294, 296, 298, 300, 302, 304, 306, 308, 310, 312, 314, 316, 318, 320, 322, 324, 326, 328, 330, 332, 334, 336, 338, 340, 342, 344, 346, 348, 350, 352, 354, 356, 358, 360, 362, 364, 366, 368, 370, 372, 374, 376, 378, 380, 382, 384, 386, 388, 390, 392, 394, 396, 398, 400, 402, 404, 406, 408, 410, 412, 414, 416, 418, 420, 422, 424, 426, 428, 430, 432, 434, 436, 438, 440, 442, 444, 446, 448, 450, 452, 454, 456, 458, 460, 462, 464, 466, 468, 470, 472, 474, 476, 478, 480, 482, 484, 486, 488, 490, 492, 494, 496, 498, 500, 502, 504, 506, 508, 510, 512, 514, 516, 518, 520, 522, 524, 526, 528, 530, 532, 534, 536, 538, 540, 542, 544, 546, 548, 550, 552, 554, 556, 558, 560, 562, 564, 566, 568, 570, 572, 574, 576, 578, 580, 582, 584, 586, 588, 590, 592, 594, 596, 598, 600, 602, 604, 606, 608, 610, 612, 614, 616, 618, 620, 622, 624, 626, 628, 630, 632, 634, 636, 638, 640, 642, 644, 646, 648, 650, 652, 654, 656, 658, 660, 662, 664, 666, 668, 670, 672, 674, 676, 678, 680, 682, 684, 686, 688, 690, 692, 694, 696, 698, 700, 702, 704, 706, 708, 710, 712, 714, 716, 718, 720, 722, 724, 726, 728, 730, 732, 734, 736, 738, 740, 742, 744, 746, 748, 750, 752, 754, 756, 758, 760, 762, 764, 766, 768, 770, 772, 774, 776, 778, 780, 782, 784, 786, 788, 790, 792, 794, 796, 798, 800, 802, 804, 806, 808, 810, 812, 814, 816, 818, 820, 822, 824, 826, 828, 830, 832, 834, 836, 838, 840, 842, 844, 846, 848, 850, 852, 854, 856, 858, 860, 862, 864, 866, 868, 870, 872, 874, 876, 878, 880, 882, 884, 886, 888, 890, 892, 894, 896, 898, 900, 902, 904, 906, 908, 910, 912, 914, 916, 918, 920, 922, 924, 926, 928, 930, 932, 934, 936, 938, 940, 942, 944, 946, 948, 950, 952, 954, 956, 958, 960, 962, 964, 966, 968, 970, 972, 974, 976, 978, 980, 982, 984, 986, 988, 990, 992, 994, 996, 998]\n",
            "[0, 2, 4, 6, 8, 10, 12, 14, 16, 18, 20, 22, 24, 26, 28, 30, 32, 34, 36, 38, 40, 42, 44, 46, 48, 50, 52, 54, 56, 58, 60, 62, 64, 66, 68, 70, 72, 74, 76, 78, 80, 82, 84, 86, 88, 90, 92, 94, 96, 98, 100, 102, 104, 106, 108, 110, 112, 114, 116, 118, 120, 122, 124, 126, 128, 130, 132, 134, 136, 138, 140, 142, 144, 146, 148, 150, 152, 154, 156, 158, 160, 162, 164, 166, 168, 170, 172, 174, 176, 178, 180, 182, 184, 186, 188, 190, 192, 194, 196, 198, 200, 202, 204, 206, 208, 210, 212, 214, 216, 218, 220, 222, 224, 226, 228, 230, 232, 234, 236, 238, 240, 242, 244, 246, 248, 250, 252, 254, 256, 258, 260, 262, 264, 266, 268, 270, 272, 274, 276, 278, 280, 282, 284, 286, 288, 290, 292, 294, 296, 298, 300, 302, 304, 306, 308, 310, 312, 314, 316, 318, 320, 322, 324, 326, 328, 330, 332, 334, 336, 338, 340, 342, 344, 346, 348, 350, 352, 354, 356, 358, 360, 362, 364, 366, 368, 370, 372, 374, 376, 378, 380, 382, 384, 386, 388, 390, 392, 394, 396, 398, 400, 402, 404, 406, 408, 410, 412, 414, 416, 418, 420, 422, 424, 426, 428, 430, 432, 434, 436, 438, 440, 442, 444, 446, 448, 450, 452, 454, 456, 458, 460, 462, 464, 466, 468, 470, 472, 474, 476, 478, 480, 482, 484, 486, 488, 490, 492, 494, 496, 498, 500, 502, 504, 506, 508, 510, 512, 514, 516, 518, 520, 522, 524, 526, 528, 530, 532, 534, 536, 538, 540, 542, 544, 546, 548, 550, 552, 554, 556, 558, 560, 562, 564, 566, 568, 570, 572, 574, 576, 578, 580, 582, 584, 586, 588, 590, 592, 594, 596, 598, 600, 602, 604, 606, 608, 610, 612, 614, 616, 618, 620, 622, 624, 626, 628, 630, 632, 634, 636, 638, 640, 642, 644, 646, 648, 650, 652, 654, 656, 658, 660, 662, 664, 666, 668, 670, 672, 674, 676, 678, 680, 682, 684, 686, 688, 690, 692, 694, 696, 698, 700, 702, 704, 706, 708, 710, 712, 714, 716, 718, 720, 722, 724, 726, 728, 730, 732, 734, 736, 738, 740, 742, 744, 746, 748, 750, 752, 754, 756, 758, 760, 762, 764, 766, 768, 770, 772, 774, 776, 778, 780, 782, 784, 786, 788, 790, 792, 794, 796, 798, 800, 802, 804, 806, 808, 810, 812, 814, 816, 818, 820, 822, 824, 826, 828, 830, 832, 834, 836, 838, 840, 842, 844, 846, 848, 850, 852, 854, 856, 858, 860, 862, 864, 866, 868, 870, 872, 874, 876, 878, 880, 882, 884, 886, 888, 890, 892, 894, 896, 898, 900, 902, 904, 906, 908, 910, 912, 914, 916, 918, 920, 922, 924, 926, 928, 930, 932, 934, 936, 938, 940, 942, 944, 946, 948, 950, 952, 954, 956, 958, 960, 962, 964, 966, 968, 970, 972, 974, 976, 978, 980, 982, 984, 986, 988, 990, 992, 994, 996, 998]\n"
          ]
        }
      ]
    },
    {
      "cell_type": "code",
      "source": [
        "## Ejercicio del vídeo (sobre listas de comprensión):\n",
        "\n",
        "\"\"\" Here, why don’t you try converting a function into a list comprehension. \"\"\"\n",
        "\"\"\"def times_tables():\n",
        "    lst = []\n",
        "    for i in range(10):\n",
        "        for j in range (10):\n",
        "            lst.append(i*j)\n",
        "    return lst\"\"\"\n",
        "\n",
        "times_tables() == [j*i for i in range(10) for j in range(10)]\n",
        "times_tables()"
      ],
      "metadata": {
        "id": "ezf78G7rlESg"
      },
      "execution_count": null,
      "outputs": []
    },
    {
      "cell_type": "code",
      "source": [
        "## Otro ejm que reune más temas:\n",
        "\"\"\" Escriba una línea de inicialización como una comprensión de lista única que \n",
        "crea una lista de todos los ID de usuario posibles. Suponga que las letras son todas minúsculas.\"\"\"\n",
        "\n",
        "lowercase = 'abcdefghijklmnopqrstuvwxyz'\n",
        "digits = '0123456789'\n",
        "\n",
        "answer = [a+b+c+d for a in lowercase for b in lowercase for c in digits for d in digits]\n",
        "answer[:10] ## Miremos los primeros 10 ya que son demasiadas combinaciones"
      ],
      "metadata": {
        "id": "2XdszGPuq3ST",
        "outputId": "789b19b7-c59c-4b76-c1ee-243127277c84",
        "colab": {
          "base_uri": "https://localhost:8080/"
        }
      },
      "execution_count": 43,
      "outputs": [
        {
          "output_type": "execute_result",
          "data": {
            "text/plain": [
              "['aa00',\n",
              " 'aa01',\n",
              " 'aa02',\n",
              " 'aa03',\n",
              " 'aa04',\n",
              " 'aa05',\n",
              " 'aa06',\n",
              " 'aa07',\n",
              " 'aa08',\n",
              " 'aa09']"
            ]
          },
          "metadata": {},
          "execution_count": 43
        }
      ]
    },
    {
      "cell_type": "markdown",
      "source": [
        "## Fundamentos de la manipulacion de datos:"
      ],
      "metadata": {
        "id": "93B8UAXIsjES"
      }
    },
    {
      "cell_type": "markdown",
      "source": [
        "### Numerical Python Library (NumPy):"
      ],
      "metadata": {
        "id": "AzdfOiCls3_Q"
      }
    },
    {
      "cell_type": "code",
      "source": [],
      "metadata": {
        "id": "bXzPEtu7s4PF"
      },
      "execution_count": null,
      "outputs": []
    }
  ]
}