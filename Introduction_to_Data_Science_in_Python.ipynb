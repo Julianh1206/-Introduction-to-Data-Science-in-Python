{
  "nbformat": 4,
  "nbformat_minor": 0,
  "metadata": {
    "colab": {
      "provenance": [],
      "authorship_tag": "ABX9TyPQk+aoN9hNMfnxcoiZEOPt",
      "include_colab_link": true
    },
    "kernelspec": {
      "name": "python3",
      "display_name": "Python 3"
    },
    "language_info": {
      "name": "python"
    }
  },
  "cells": [
    {
      "cell_type": "markdown",
      "metadata": {
        "id": "view-in-github",
        "colab_type": "text"
      },
      "source": [
        "<a href=\"https://colab.research.google.com/github/Julianh1206/-Introduction-to-Data-Science-in-Python/blob/main/Introduction_to_Data_Science_in_Python.ipynb\" target=\"_parent\"><img src=\"https://colab.research.google.com/assets/colab-badge.svg\" alt=\"Open In Colab\"/></a>"
      ]
    },
    {
      "cell_type": "markdown",
      "source": [
        "## **Introduction to Data Science in Python (Coursera)**"
      ],
      "metadata": {
        "id": "1YI8_YLb7JJy"
      }
    },
    {
      "cell_type": "markdown",
      "source": [
        "## Semana 1:"
      ],
      "metadata": {
        "id": "T5kOXJEDvSXN"
      }
    },
    {
      "cell_type": "markdown",
      "source": [
        "### Python Functions:"
      ],
      "metadata": {
        "id": "oQCTctib_uk8"
      }
    },
    {
      "cell_type": "code",
      "execution_count": 5,
      "metadata": {
        "colab": {
          "base_uri": "https://localhost:8080/"
        },
        "id": "9Ehm0b-n7DOm",
        "outputId": "8de2895a-223a-4100-e33b-241bbc54a188"
      },
      "outputs": [
        {
          "output_type": "execute_result",
          "data": {
            "text/plain": [
              "3"
            ]
          },
          "metadata": {},
          "execution_count": 5
        }
      ],
      "source": [
        "# La idea es que el tercer valor sea opcional, si ese tercer valor (kind) es 'add', entonces realizar la suma. En caso \n",
        "# contrario se debera restar el segundo del primero (a-b)\n",
        "\n",
        "## Base:\n",
        "\"\"\"\n",
        "def do_math(?, ?, ?):\n",
        "  if (kind=='add'):\n",
        "    return a+b\n",
        "  else:\n",
        "    return a-b\n",
        "\n",
        "do_math(1, 2) \"\"\"\n",
        "\n",
        "def do_math(a, b, kind = None):\n",
        "  if (kind=='add'):\n",
        "    return a+b\n",
        "  else:\n",
        "    return a-b\n",
        "\n",
        "## Pruebas\n",
        "do_math(1,2)\n",
        "do_math(1,2, 'add')\n",
        "\n",
        "# Nota: cuando ponemos ese '= None', lo que realiza es dejar la variable abierta. Es decir, se pueden\n",
        "# ingresar los dos parámetros y lo va a ejecutar pero si se ingresa el tercero, va a operar con respecto\n",
        "# a las condiciones que se pusieron en la función.\n"
      ]
    },
    {
      "cell_type": "markdown",
      "source": [
        "### Python Types and Sequences:"
      ],
      "metadata": {
        "id": "DWdlD54W_zMW"
      }
    },
    {
      "cell_type": "code",
      "source": [],
      "metadata": {
        "id": "P2U1180u_25s"
      },
      "execution_count": null,
      "outputs": []
    }
  ]
}